{
 "cells": [
  {
   "cell_type": "code",
   "execution_count": null,
   "metadata": {},
   "outputs": [],
   "source": [
    "import os\n",
    "import cv2\n",
    "import matplotlib.pyplot as plt\n",
    "import numpy as np\n",
    "import seaborn as sns\n",
    "import pandas as pd\n",
    "import h5py\n",
    "from tqdm import tqdm\n",
    "from mtcnn.mtcnn import MTCNN\n",
    "%matplotlib inline"
   ]
  },
  {
   "cell_type": "markdown",
   "metadata": {},
   "source": [
    "# Set up paths"
   ]
  },
  {
   "cell_type": "code",
   "execution_count": null,
   "metadata": {},
   "outputs": [],
   "source": [
    "# TODO: change this to your local path\n",
    "dataset_root = \"~/data/datasets/fer-plus/\"\n",
    "fer_2013_csv = \"fer2013.csv\"\n",
    "fer_plus_csv = \"fer2013new.csv\"\n",
    "\n",
    "# DON'T TOUCH THIS!\n",
    "dataset_root = os.path.expanduser(dataset_root)\n",
    "fer_2013_csv = os.path.join(dataset_root, fer_2013_csv)\n",
    "fer_plus_csv = os.path.join(dataset_root, fer_plus_csv)"
   ]
  },
  {
   "cell_type": "markdown",
   "metadata": {},
   "source": [
    "# Inspect"
   ]
  },
  {
   "cell_type": "code",
   "execution_count": null,
   "metadata": {},
   "outputs": [],
   "source": [
    "fer2013_df = pd.read_csv(fer_2013_csv)\n",
    "ferplus_df = pd.read_csv(fer_plus_csv)\n",
    "assert len(fer2013_df) == len(ferplus_df)"
   ]
  },
  {
   "cell_type": "code",
   "execution_count": null,
   "metadata": {},
   "outputs": [],
   "source": [
    "# TODO: change this if you want\n",
    "rows, cols = 10, 30\n",
    "inch_per_img = 0.7\n",
    "\n",
    "indices = np.arange(len(fer2013_df))\n",
    "np.random.shuffle(indices)\n",
    "collage = None\n",
    "for i in range(rows):\n",
    "    row = None\n",
    "    for j in range(cols):\n",
    "        idx = indices[i * cols + j]\n",
    "        img = np.array([int(p) for p in fer2013_df['pixels'][idx].split()], dtype=np.uint8)\n",
    "        img = np.reshape(img, (48,  48))\n",
    "        img = cv2.resize(img, (32, 32))\n",
    "        if row is None:\n",
    "            row = img\n",
    "        else:\n",
    "            row = np.concatenate([row, img], axis=1)\n",
    "    if collage is None:\n",
    "        collage = row\n",
    "    else:\n",
    "        collage = np.concatenate([collage, row], axis=0)\n",
    "\n",
    "plt.figure(figsize=(int(inch_per_img * cols), int(inch_per_img * rows)))\n",
    "plt.axis('off')\n",
    "plt.imshow(collage, 'gray')"
   ]
  },
  {
   "cell_type": "markdown",
   "metadata": {},
   "source": [
    "# Filtering and saving"
   ]
  },
  {
   "cell_type": "code",
   "execution_count": null,
   "metadata": {},
   "outputs": [],
   "source": [
    "emotions = {'neutral':0, 'happiness':0, 'surprise':0, 'sadness':0, 'anger':0}\n",
    "indices = {'neutral':None, 'happiness':None, 'surprise':None, 'sadness':None, 'anger':None}\n",
    "thresh = {'neutral':8, 'happiness':9, 'surprise':6, 'sadness':5, 'anger':5}\n",
    "\n",
    "train_indices = None\n",
    "test_indices = None\n",
    "\n",
    "for emotion in emotions:\n",
    "    samples = ferplus_df.loc[ferplus_df[emotion] > thresh[emotion]]\n",
    "    train_samples = np.array(samples.loc[samples['Usage'] == 'Training'].index)\n",
    "    test_samples = np.array(samples.loc[samples['Usage'] == 'PrivateTest'].index)\n",
    "    \n",
    "    if train_indices is None:\n",
    "        train_indices = train_samples\n",
    "    else:\n",
    "        train_indices = np.concatenate([train_indices, train_samples], axis=0)\n",
    "        \n",
    "    if test_indices is None:\n",
    "        test_indices = test_samples\n",
    "    else:\n",
    "        test_indices = np.concatenate([test_indices, test_samples], axis=0)\n",
    "        \n",
    "    print('%s: %d train, %d test' % (emotion, train_samples.shape[0], test_samples.shape[0]))\n",
    "\n",
    "print('-------------------------------')\n",
    "print('total:', train_indices.shape[0], 'train,', test_indices.shape[0], 'test')"
   ]
  },
  {
   "cell_type": "code",
   "execution_count": null,
   "metadata": {},
   "outputs": [],
   "source": [
    "train_images = np.empty((train_indices.shape[0], 32, 32), dtype=np.uint8)\n",
    "test_images = np.empty((test_indices.shape[0], 32, 32), dtype=np.uint8)\n",
    "\n",
    "for i in tqdm(range(train_indices.shape[0])[:], desc='train', ascii=True):\n",
    "    img = np.array([int(p) for p in fer2013_df['pixels'][train_indices[i]].split()], dtype=np.uint8)\n",
    "    img = np.reshape(img, (48,  48))\n",
    "    train_images[i] = cv2.resize(img, (32, 32))\n",
    "\n",
    "for i in tqdm(range(test_indices.shape[0])[:], desc='train', ascii=True):\n",
    "    img = np.array([int(p) for p in fer2013_df['pixels'][test_indices[i]].split()], dtype=np.uint8)\n",
    "    img = np.reshape(img, (48,  48))\n",
    "    test_images[i] = cv2.resize(img, (32, 32))"
   ]
  },
  {
   "cell_type": "code",
   "execution_count": null,
   "metadata": {},
   "outputs": [],
   "source": [
    "train_set = h5py.File(os.path.join(dataset_root, 'train.h5'), 'w')\n",
    "x_train = train_set.create_dataset('X', (train_indices.shape[0], 32, 32, 1), dtype=np.uint8)\n",
    "y_train = train_set.create_dataset('Y', (train_indices.shape[0], 5), dtype=np.float32)\n",
    "\n",
    "val_set = h5py.File(os.path.join(dataset_root, 'test.h5'), 'w')\n",
    "x_val = val_set.create_dataset('X', (test_indices.shape[0], 32, 32, 1), dtype=np.uint8)\n",
    "y_val = val_set.create_dataset('Y', (test_indices.shape[0], 5), dtype=np.float32)\n",
    "\n",
    "x_train[:, :, :, 0] = train_images[:, :, :]\n",
    "y = ferplus_df.loc[train_indices, 'neutral':'anger'].values\n",
    "y = y.astype(np.float32)\n",
    "y = np.divide(y.T, np.sum(y, axis=1)).T\n",
    "y_train[:, :] = y[:, :]\n",
    "\n",
    "x_val[:, :, :, 0] = test_images[:, :, :]\n",
    "y = ferplus_df.loc[test_indices, 'neutral':'anger'].values\n",
    "y = y.astype(np.float32)\n",
    "y = np.divide(y.T, np.sum(y, axis=1)).T\n",
    "y_val[:, :] = y[:, :]\n",
    "\n",
    "train_set.close()\n",
    "val_set.close()\n",
    "\n",
    "with open(os.path.join(dataset_root, 'class_names.txt'), 'w') as f:\n",
    "    for s in emotions:\n",
    "        f.write(s + '\\n')"
   ]
  },
  {
   "cell_type": "code",
   "execution_count": null,
   "metadata": {},
   "outputs": [],
   "source": []
  }
 ],
 "metadata": {
  "kernelspec": {
   "display_name": "Python 3",
   "language": "python",
   "name": "python3"
  },
  "language_info": {
   "codemirror_mode": {
    "name": "ipython",
    "version": 3
   },
   "file_extension": ".py",
   "mimetype": "text/x-python",
   "name": "python",
   "nbconvert_exporter": "python",
   "pygments_lexer": "ipython3",
   "version": "3.6.6"
  }
 },
 "nbformat": 4,
 "nbformat_minor": 2
}
