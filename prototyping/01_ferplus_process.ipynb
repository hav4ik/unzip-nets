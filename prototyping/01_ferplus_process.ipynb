{
 "cells": [
  {
   "cell_type": "code",
   "execution_count": null,
   "metadata": {},
   "outputs": [],
   "source": [
    "import os\n",
    "import cv2\n",
    "import matplotlib.pyplot as plt\n",
    "import numpy as np\n",
    "import seaborn as sns\n",
    "import pandas as pd\n",
    "import h5py\n",
    "from tqdm import tqdm\n",
    "from mtcnn.mtcnn import MTCNN\n",
    "%matplotlib inline"
   ]
  },
  {
   "cell_type": "markdown",
   "metadata": {},
   "source": [
    "# Set up paths"
   ]
  },
  {
   "cell_type": "code",
   "execution_count": null,
   "metadata": {},
   "outputs": [],
   "source": [
    "# TODO: change this to your local path\n",
    "dataset_root = \"~/data/datasets/fer-plus/\"\n",
    "fer_2013_csv = \"fer2013.csv\"\n",
    "fer_plus_csv = \"fer2013new.csv\"\n",
    "\n",
    "# DON'T TOUCH THIS!\n",
    "dataset_root = os.path.expanduser(dataset_root)\n",
    "fer_2013_csv = os.path.join(dataset_root, fer_2013_csv)\n",
    "fer_plus_csv = os.path.join(dataset_root, fer_plus_csv)"
   ]
  },
  {
   "cell_type": "markdown",
   "metadata": {},
   "source": [
    "# Inspect"
   ]
  },
  {
   "cell_type": "code",
   "execution_count": null,
   "metadata": {},
   "outputs": [],
   "source": [
    "fer2013_df = pd.read_csv(fer_2013_csv)\n",
    "ferplus_df = pd.read_csv(fer_plus_csv)\n",
    "assert len(fer2013_df) == len(ferplus_df)"
   ]
  },
  {
   "cell_type": "code",
   "execution_count": null,
   "metadata": {},
   "outputs": [],
   "source": [
    "# TODO: change this if you want\n",
    "rows, cols = 10, 30\n",
    "inch_per_img = 0.7\n",
    "\n",
    "indices = np.arange(len(fer2013_df))\n",
    "np.random.shuffle(indices)\n",
    "collage = None\n",
    "for i in range(rows):\n",
    "    row = None\n",
    "    for j in range(cols):\n",
    "        idx = indices[i * cols + j]\n",
    "        img = np.array([int(p) for p in fer2013_df['pixels'][idx].split()], dtype=np.uint8)\n",
    "        img = np.reshape(img, (48,  48))\n",
    "        img = cv2.resize(img, (32, 32))\n",
    "        if row is None:\n",
    "            row = img\n",
    "        else:\n",
    "            row = np.concatenate([row, img], axis=1)\n",
    "    if collage is None:\n",
    "        collage = row\n",
    "    else:\n",
    "        collage = np.concatenate([collage, row], axis=0)\n",
    "\n",
    "plt.figure(figsize=(int(inch_per_img * cols), int(inch_per_img * rows)))\n",
    "plt.axis('off')\n",
    "plt.imshow(collage, 'gray')"
   ]
  },
  {
   "cell_type": "markdown",
   "metadata": {},
   "source": [
    "# Filtering and saving"
   ]
  },
  {
   "cell_type": "code",
   "execution_count": null,
   "metadata": {},
   "outputs": [],
   "source": [
    "emotions = {'neutral':0, 'happiness':0, 'surprise':0, 'sadness':0, 'anger':0}\n",
    "indices = {'neutral':None, 'happiness':None, 'surprise':None, 'sadness':None, 'anger':None}\n",
    "thresh = {'neutral':8, 'happiness':9, 'surprise':6, 'sadness':5, 'anger':5}\n",
    "for emotion in emotions:\n",
    "    indices[emotion] = np.where(ferplus_df[emotion] > thresh[emotion])[0]\n",
    "    emotions[emotion] = indices[emotion].shape[0]\n",
    "emotions"
   ]
  },
  {
   "cell_type": "code",
   "execution_count": null,
   "metadata": {},
   "outputs": [],
   "source": [
    "images = dict([(key, np.empty((item.shape[0], 32, 32), dtype=np.uint8)) for key, item in indices.items()])\n",
    "confidence = dict([(key, np.empty((item.shape[0],), dtype=np.float64)) for key, item in indices.items()])\n",
    "for emotion, ind in indices.items():\n",
    "    for i in tqdm(range(ind.shape[0])[:], desc=emotion, ascii=True):\n",
    "        img = np.array([int(p) for p in fer2013_df['pixels'][ind[i]].split()], dtype=np.uint8)\n",
    "        img = np.reshape(img, (48,  48))\n",
    "        images[emotion][i] = cv2.resize(img, (32, 32))"
   ]
  },
  {
   "cell_type": "code",
   "execution_count": null,
   "metadata": {},
   "outputs": [],
   "source": [
    "splits = {\n",
    "    'neutral': (2800, 500),\n",
    "    'happiness': (3000, 700),\n",
    "    'surprise': (2500, 397),\n",
    "    'sadness': (2600, 358),\n",
    "    'anger': (1800, 296)\n",
    "}\n",
    "train_total = sum([s[0] for k, s in splits.items()])\n",
    "val_total = sum([s[1] for k, s in splits.items()])\n",
    "\n",
    "train_set = h5py.File(os.path.join(dataset_root, 'train-filtered.h5'), 'w')\n",
    "train_set.create_dataset('images', (train_total, 32, 32, 1), dtype=np.uint8)\n",
    "train_set.create_dataset('classes', (train_total, 5), dtype=np.uint8)\n",
    "x_train = train_set['images']\n",
    "y_train = train_set['classes']\n",
    "\n",
    "val_set = h5py.File(os.path.join(dataset_root, 'val-filtered.h5'), 'w')\n",
    "val_set.create_dataset('images', (train_total, 32, 32, 1), dtype=np.uint8)\n",
    "val_set.create_dataset('classes', (train_total, 5), dtype=np.uint8)\n",
    "x_val = train_set['images']\n",
    "y_val = train_set['classes']\n",
    "\n",
    "head_train, head_val = 0, 0\n",
    "for emo in indices:\n",
    "    split = splits[emo]\n",
    "    x_train[head_train:head_train + split[0], :, :, 0] = images[emo][:split[0]]\n",
    "    y_train[head_train:head_train + split[0]] = ferplus_df.loc[\n",
    "        indices[emo][:split[0]], 'neutral':'anger'].values\n",
    "    x_val[head_val:head_val + split[1], :, :, 0] = images[emo][split[0]:split[0] + split[1]]\n",
    "    y_val[head_val:head_val + split[1]] = ferplus_df.loc[\n",
    "        indices[emo][split[0]:split[0]+split[1]], 'neutral':'anger'].values\n",
    "    head_train += split[0]\n",
    "    head_val += split[1]\n",
    "\n",
    "train_set.close()\n",
    "val_set.close()\n",
    "\n",
    "with open(os.path.join(dataset_root, 'class_names.txt'), 'w') as f:\n",
    "    for s in emotions:\n",
    "        f.write(s + '\\n')"
   ]
  },
  {
   "cell_type": "code",
   "execution_count": null,
   "metadata": {},
   "outputs": [],
   "source": []
  }
 ],
 "metadata": {
  "kernelspec": {
   "display_name": "Python 3",
   "language": "python",
   "name": "python3"
  },
  "language_info": {
   "codemirror_mode": {
    "name": "ipython",
    "version": 3
   },
   "file_extension": ".py",
   "mimetype": "text/x-python",
   "name": "python",
   "nbconvert_exporter": "python",
   "pygments_lexer": "ipython3",
   "version": "3.6.6"
  }
 },
 "nbformat": 4,
 "nbformat_minor": 2
}
