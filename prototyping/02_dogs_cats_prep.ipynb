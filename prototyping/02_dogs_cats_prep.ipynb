{
 "cells": [
  {
   "cell_type": "code",
   "execution_count": null,
   "metadata": {},
   "outputs": [],
   "source": [
    "import cv2\n",
    "import os\n",
    "import numpy as np\n",
    "import matplotlib.pyplot as plt\n",
    "import h5py\n",
    "from tqdm import tqdm\n",
    "%matplotlib inline"
   ]
  },
  {
   "cell_type": "markdown",
   "metadata": {},
   "source": [
    "# Set up paths"
   ]
  },
  {
   "cell_type": "code",
   "execution_count": null,
   "metadata": {},
   "outputs": [],
   "source": [
    "# TODO: change this to your local paths\n",
    "dataset_root = '~/data/datasets/dogs-vs-cats/'\n",
    "images_folder = 'train'\n",
    "\n",
    "# DON'T TOUCH THIS\n",
    "dataset_root = os.path.expanduser(dataset_root)\n",
    "images_folder = os.path.join(dataset_root, images_folder)"
   ]
  },
  {
   "cell_type": "markdown",
   "metadata": {},
   "source": [
    "# Inspect"
   ]
  },
  {
   "cell_type": "code",
   "execution_count": null,
   "metadata": {},
   "outputs": [],
   "source": [
    "images_list = [os.path.join(images_folder, p) for p in os.listdir(images_folder)]\n",
    "cat_list = [i for i in train_list if 'cat' in os.path.basename(i)]\n",
    "dog_list = [i for i in train_list if 'dog' in os.path.basename(i)]\n",
    "\n",
    "train_cats = cat_list[:11000]\n",
    "train_dogs = dog_list[:11000]\n",
    "val_cats = cat_list[11000:]\n",
    "val_dogs = dog_list[11000:]\n",
    "\n",
    "print('Found %d cats (%d for training and %d for validation)' % (len(cat_list), len(train_cats), len(val_cats)))\n",
    "print('Found %d dogs (%d for training and %d for validation)' % (len(dog_list), len(train_dogs), len(val_dogs)))"
   ]
  },
  {
   "cell_type": "code",
   "execution_count": null,
   "metadata": {},
   "outputs": [],
   "source": [
    "# TODO: change this if you want\n",
    "rows, cols = 10, 30\n",
    "inch_per_img = 0.7\n",
    "\n",
    "indices = np.arange(len(images_list))\n",
    "np.random.shuffle(indices)\n",
    "collage = None\n",
    "for i in range(rows):\n",
    "    row = None\n",
    "    for j in range(cols):\n",
    "        idx = indices[i * cols + j]\n",
    "        img = cv2.cvtColor(cv2.imread(images_list[idx]), cv2.COLOR_BGR2RGB)\n",
    "        img = cv2.resize(img, (32, 32))\n",
    "        if row is None:\n",
    "            row = img\n",
    "        else:\n",
    "            row = np.concatenate([row, img], axis=1)\n",
    "    if collage is None:\n",
    "        collage = row\n",
    "    else:\n",
    "        collage = np.concatenate([collage, row], axis=0)\n",
    "\n",
    "plt.figure(figsize=(int(inch_per_img * cols), int(inch_per_img * rows)))\n",
    "plt.axis('off')\n",
    "plt.imshow(collage, 'gray')"
   ]
  },
  {
   "cell_type": "markdown",
   "metadata": {},
   "source": [
    "# Saving"
   ]
  },
  {
   "cell_type": "code",
   "execution_count": null,
   "metadata": {},
   "outputs": [],
   "source": [
    "train_total = len(train_cats) + len(train_dogs)\n",
    "val_total = len(val_cats) + len(val_dogs)\n",
    "\n",
    "train_set = h5py.File(os.path.join(dataset_root, 'train.h5'), 'w')\n",
    "train_set.create_dataset('X', (train_total, 32, 32, 3), dtype=np.uint8)\n",
    "train_set.create_dataset('Y', (train_total, 2), dtype=np.uint8)\n",
    "x_train = train_set['X']\n",
    "y_train = train_set['Y']\n",
    "\n",
    "val_set = h5py.File(os.path.join(dataset_root, 'val.h5'), 'w')\n",
    "val_set.create_dataset('X', (train_total, 32, 32, 3), dtype=np.uint8)\n",
    "val_set.create_dataset('Y', (train_total, 2), dtype=np.uint8)\n",
    "x_val = train_set['X']\n",
    "y_val = train_set['Y']\n",
    "\n",
    "counter = 0\n",
    "for fname in tqdm(train_cats, desc='train cats', ascii=True):\n",
    "    img = cv2.cvtColor(cv2.imread(fname), cv2.COLOR_BGR2RGB)\n",
    "    img = cv2.resize(img, (32, 32))\n",
    "    x_train[counter] = img\n",
    "    y_train[counter] = 0\n",
    "    counter += 1\n",
    "\n",
    "for fname in tqdm(train_dogs, desc='train dogs', ascii=True):\n",
    "    img = cv2.cvtColor(cv2.imread(fname), cv2.COLOR_BGR2RGB)\n",
    "    img = cv2.resize(img, (32, 32))\n",
    "    x_train[counter] = img\n",
    "    y_train[counter] = 1\n",
    "    counter += 1\n",
    "\n",
    "counter = 0\n",
    "for fname in tqdm(val_cats, desc='val cats', ascii=True):\n",
    "    img = cv2.cvtColor(cv2.imread(fname), cv2.COLOR_BGR2RGB)\n",
    "    img = cv2.resize(img, (32, 32))\n",
    "    x_val[counter] = img\n",
    "    y_val[counter] = 0\n",
    "    counter += 1\n",
    "\n",
    "for fname in tqdm(val_dogs, desc='val dogs', ascii=True):\n",
    "    img = cv2.cvtColor(cv2.imread(fname), cv2.COLOR_BGR2RGB)\n",
    "    img = cv2.resize(img, (32, 32))\n",
    "    x_val[counter] = img\n",
    "    y_val[counter] = 1\n",
    "    counter += 1\n",
    "\n",
    "train_set.close()\n",
    "val_set.close()\n",
    "with open(os.path.join(dataset_root, 'class_names.txt'), 'w') as f:\n",
    "    f.write('cat\\ndog\\n')"
   ]
  },
  {
   "cell_type": "code",
   "execution_count": null,
   "metadata": {},
   "outputs": [],
   "source": []
  }
 ],
 "metadata": {
  "kernelspec": {
   "display_name": "Python 3",
   "language": "python",
   "name": "python3"
  },
  "language_info": {
   "codemirror_mode": {
    "name": "ipython",
    "version": 3
   },
   "file_extension": ".py",
   "mimetype": "text/x-python",
   "name": "python",
   "nbconvert_exporter": "python",
   "pygments_lexer": "ipython3",
   "version": "3.6.6"
  }
 },
 "nbformat": 4,
 "nbformat_minor": 2
}
